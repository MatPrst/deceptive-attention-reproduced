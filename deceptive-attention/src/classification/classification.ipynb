{
 "cells": [
  {
   "cell_type": "markdown",
   "metadata": {},
   "source": [
    "# Classification"
   ]
  },
  {
   "cell_type": "code",
   "execution_count": 17,
   "metadata": {},
   "outputs": [
    {
     "name": "stdout",
     "output_type": "stream",
     "text": [
      "The autoreload extension is already loaded. To reload it, use:\n",
      "  %reload_ext autoreload\n"
     ]
    }
   ],
   "source": [
    "%load_ext autoreload\n",
    "%autoreload 2\n",
    "%matplotlib inline\n",
    "%config InlineBackend.figure_format = 'retina'"
   ]
  },
  {
   "cell_type": "markdown",
   "metadata": {},
   "source": [
    "## Run All Experiments\n",
    "\n",
    "A simple notebook for reproducing our results."
   ]
  },
  {
   "cell_type": "code",
   "execution_count": 70,
   "metadata": {},
   "outputs": [],
   "source": [
    "from main import run_sstwiki_experiment, run_occupation_experiment, run_pronoun_experiment, run_all_experiments"
   ]
  },
  {
   "cell_type": "code",
   "execution_count": 91,
   "metadata": {},
   "outputs": [
    {
     "name": "stdout",
     "output_type": "stream",
     "text": [
      "finished\n"
     ]
    },
    {
     "data": {
      "text/html": [
       "<div>\n",
       "<style scoped>\n",
       "    .dataframe tbody tr th:only-of-type {\n",
       "        vertical-align: middle;\n",
       "    }\n",
       "\n",
       "    .dataframe tbody tr th {\n",
       "        vertical-align: top;\n",
       "    }\n",
       "\n",
       "    .dataframe thead th {\n",
       "        text-align: right;\n",
       "    }\n",
       "</style>\n",
       "<table border=\"1\" class=\"dataframe\">\n",
       "  <thead>\n",
       "    <tr style=\"text-align: right;\">\n",
       "      <th></th>\n",
       "      <th>model</th>\n",
       "      <th>$\\lambda$</th>\n",
       "      <th>I</th>\n",
       "      <th>occupation acc</th>\n",
       "      <th>occupation att-mass</th>\n",
       "      <th>gender acc</th>\n",
       "      <th>gender att-mass</th>\n",
       "      <th>sst-wiki acc</th>\n",
       "      <th>sst-wiki att-mass</th>\n",
       "    </tr>\n",
       "  </thead>\n",
       "  <tbody>\n",
       "    <tr>\n",
       "      <th>0</th>\n",
       "      <td>Embedding</td>\n",
       "      <td>0.0</td>\n",
       "      <td>anonymized</td>\n",
       "      <td>0.812</td>\n",
       "      <td>0.124023</td>\n",
       "      <td>0.528</td>\n",
       "      <td>0.008998</td>\n",
       "      <td>0.918</td>\n",
       "      <td>0.000000</td>\n",
       "    </tr>\n",
       "    <tr>\n",
       "      <th>1</th>\n",
       "      <td>Embedding</td>\n",
       "      <td>0.0</td>\n",
       "      <td>not-anonymized</td>\n",
       "      <td>0.956</td>\n",
       "      <td>0.333822</td>\n",
       "      <td>1.000</td>\n",
       "      <td>0.772665</td>\n",
       "      <td>0.916</td>\n",
       "      <td>0.483854</td>\n",
       "    </tr>\n",
       "    <tr>\n",
       "      <th>2</th>\n",
       "      <td>Embedding</td>\n",
       "      <td>0.1</td>\n",
       "      <td>not-anonymized</td>\n",
       "      <td>0.940</td>\n",
       "      <td>0.177216</td>\n",
       "      <td>0.996</td>\n",
       "      <td>0.410596</td>\n",
       "      <td>0.920</td>\n",
       "      <td>0.448898</td>\n",
       "    </tr>\n",
       "    <tr>\n",
       "      <th>3</th>\n",
       "      <td>Embedding</td>\n",
       "      <td>1.0</td>\n",
       "      <td>not-anonymized</td>\n",
       "      <td>0.820</td>\n",
       "      <td>0.010581</td>\n",
       "      <td>0.728</td>\n",
       "      <td>0.069716</td>\n",
       "      <td>0.916</td>\n",
       "      <td>0.416678</td>\n",
       "    </tr>\n",
       "    <tr>\n",
       "      <th>4</th>\n",
       "      <td>BiLSTM</td>\n",
       "      <td>0.0</td>\n",
       "      <td>anonymized</td>\n",
       "      <td>0.822</td>\n",
       "      <td>0.209198</td>\n",
       "      <td>0.580</td>\n",
       "      <td>0.010242</td>\n",
       "      <td>0.920</td>\n",
       "      <td>0.000000</td>\n",
       "    </tr>\n",
       "    <tr>\n",
       "      <th>5</th>\n",
       "      <td>BiLSTM</td>\n",
       "      <td>0.0</td>\n",
       "      <td>not-anonymized</td>\n",
       "      <td>0.930</td>\n",
       "      <td>0.244767</td>\n",
       "      <td>0.998</td>\n",
       "      <td>0.472154</td>\n",
       "      <td>0.920</td>\n",
       "      <td>0.454521</td>\n",
       "    </tr>\n",
       "    <tr>\n",
       "      <th>6</th>\n",
       "      <td>BiLSTM</td>\n",
       "      <td>0.1</td>\n",
       "      <td>not-anonymized</td>\n",
       "      <td>0.918</td>\n",
       "      <td>0.075999</td>\n",
       "      <td>0.964</td>\n",
       "      <td>0.224662</td>\n",
       "      <td>0.920</td>\n",
       "      <td>0.376056</td>\n",
       "    </tr>\n",
       "    <tr>\n",
       "      <th>7</th>\n",
       "      <td>BiLSTM</td>\n",
       "      <td>1.0</td>\n",
       "      <td>not-anonymized</td>\n",
       "      <td>0.912</td>\n",
       "      <td>0.007821</td>\n",
       "      <td>0.962</td>\n",
       "      <td>0.003540</td>\n",
       "      <td>0.920</td>\n",
       "      <td>0.055299</td>\n",
       "    </tr>\n",
       "  </tbody>\n",
       "</table>\n",
       "</div>"
      ],
      "text/plain": [
       "       model  $\\lambda$               I  occupation acc  occupation att-mass  \\\n",
       "0  Embedding        0.0      anonymized           0.812             0.124023   \n",
       "1  Embedding        0.0  not-anonymized           0.956             0.333822   \n",
       "2  Embedding        0.1  not-anonymized           0.940             0.177216   \n",
       "3  Embedding        1.0  not-anonymized           0.820             0.010581   \n",
       "4     BiLSTM        0.0      anonymized           0.822             0.209198   \n",
       "5     BiLSTM        0.0  not-anonymized           0.930             0.244767   \n",
       "6     BiLSTM        0.1  not-anonymized           0.918             0.075999   \n",
       "7     BiLSTM        1.0  not-anonymized           0.912             0.007821   \n",
       "\n",
       "   gender acc  gender att-mass  sst-wiki acc  sst-wiki att-mass  \n",
       "0       0.528         0.008998         0.918           0.000000  \n",
       "1       1.000         0.772665         0.916           0.483854  \n",
       "2       0.996         0.410596         0.920           0.448898  \n",
       "3       0.728         0.069716         0.916           0.416678  \n",
       "4       0.580         0.010242         0.920           0.000000  \n",
       "5       0.998         0.472154         0.920           0.454521  \n",
       "6       0.964         0.224662         0.920           0.376056  \n",
       "7       0.962         0.003540         0.920           0.055299  "
      ]
     },
     "execution_count": 91,
     "metadata": {},
     "output_type": "execute_result"
    }
   ],
   "source": [
    "run_all_experiments() # training loggin will be cleared before the final results"
   ]
  },
  {
   "cell_type": "markdown",
   "metadata": {},
   "source": [
    "## Run Individual Experiments"
   ]
  },
  {
   "cell_type": "code",
   "execution_count": null,
   "metadata": {},
   "outputs": [],
   "source": [
    "model_type = \"emb-lstm-att\"\n",
    "num_epochs = 5\n",
    "use_block_file = True\n",
    "anonymize = False\n",
    "hammer_loss = 0.1 # lambda\n",
    "seed = [1, 2]\n",
    "block_words = None\n",
    "\n",
    "run_sstwiki_experiment(model_type, num_epochs, anonymize, seed, hammer_loss)\n",
    "# run_occupation_experiment(model_type, num_epochs, anonymize, seed, hammer_loss)\n",
    "# run_pronoun_experiment(model_type, num_epochs, anonymize, seed, hammer_loss)"
   ]
  },
  {
   "cell_type": "code",
   "execution_count": null,
   "metadata": {},
   "outputs": [],
   "source": []
  }
 ],
 "metadata": {
  "kernelspec": {
   "display_name": "Python 3",
   "language": "python",
   "name": "python3"
  },
  "language_info": {
   "codemirror_mode": {
    "name": "ipython",
    "version": 3
   },
   "file_extension": ".py",
   "mimetype": "text/x-python",
   "name": "python",
   "nbconvert_exporter": "python",
   "pygments_lexer": "ipython3",
   "version": "3.8.5"
  }
 },
 "nbformat": 4,
 "nbformat_minor": 4
}
