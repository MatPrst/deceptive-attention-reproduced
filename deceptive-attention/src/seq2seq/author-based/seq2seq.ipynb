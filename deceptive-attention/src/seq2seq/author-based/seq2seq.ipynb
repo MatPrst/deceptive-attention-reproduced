{
 "cells": [
  {
   "cell_type": "markdown",
   "metadata": {},
   "source": [
    "# Experiments: Sequence to Sequence\n",
    "\n",
    "This notebook reproduces our reproducibility project during the Fairness, Accountability,\n",
    "Confidentiality and Transparency (FACT) course at University of Amsterdam. Specifically, we reproduce the results from\n",
    "\"Learning to Deceive with Attention-Based Explanations\".\n",
    "\n",
    "While our main code is contained in the folders `classification` and `sequence-to-sequence`, we enable training and\n",
    "visualization via this notebook."
   ]
  },
  {
   "cell_type": "markdown",
   "metadata": {},
   "source": [
    "## Imports and Setup"
   ]
  },
  {
   "cell_type": "code",
   "execution_count": 1,
   "metadata": {
    "pycharm": {
     "name": "#%%\n"
    }
   },
   "outputs": [],
   "source": [
    "%load_ext autoreload\n",
    "%autoreload 2\n",
    "%matplotlib inline\n",
    "%config InlineBackend.figure_format = 'retina'\n",
    "\n",
    "from run_experiments_util import run_synthetic_experiments, run_en_de_experiments"
   ]
  },
  {
   "cell_type": "markdown",
   "metadata": {},
   "source": [
    "## Configuration"
   ]
  },
  {
   "cell_type": "code",
   "execution_count": 2,
   "metadata": {
    "pycharm": {
     "name": "#%%\n"
    }
   },
   "outputs": [],
   "source": [
    "# same seeds the authors used. Reported numbers are averaged over seeds for a certain configuration.\n",
    "seeds = [1, 2, 3, 4, 5]\n",
    "\n",
    "# Models are trained UP TO 30 epochs, although we have an early stopping mechanism and the most of them converge until ~15 epochs\n",
    "epochs = 30\n",
    "\n",
    "# per default the models are trained on 1000000 sentences. This can reduce runtime by lowering the amount of sentences trained on\n",
    "num_sentences_train = 100"
   ]
  },
  {
   "cell_type": "markdown",
   "metadata": {
    "pycharm": {
     "name": "#%% md\n"
    }
   },
   "source": [
    "## Training + Evaluation\n",
    "\n",
    "For this part of the experiments' attention is computed as dot-product and impermissible words, as defined in our reproducibility report, are penalized.\n",
    "The lambda coefficient (0.0, 0.1 or 1.0) defines respectively if placing attention on these impermissible words is penalized and if so how much.\n",
    "\n",
    "The authors also ran experiments with uniform and no attention (ablation studies) and no penalty on impermissible words (loss coefficient 0.0)."
   ]
  },
  {
   "cell_type": "code",
   "execution_count": 27,
   "metadata": {
    "pycharm": {
     "name": "#%%\n"
    }
   },
   "outputs": [
    {
     "name": "stdout",
     "output_type": "stream",
     "text": [
      "Finished all experiments. Displaying ...\n"
     ]
    },
    {
     "data": {
      "text/html": [
       "<div>\n",
       "<style scoped>\n",
       "    .dataframe tbody tr th:only-of-type {\n",
       "        vertical-align: middle;\n",
       "    }\n",
       "\n",
       "    .dataframe tbody tr th {\n",
       "        vertical-align: top;\n",
       "    }\n",
       "\n",
       "    .dataframe thead th {\n",
       "        text-align: right;\n",
       "    }\n",
       "</style>\n",
       "<table border=\"1\" class=\"dataframe\">\n",
       "  <thead>\n",
       "    <tr style=\"text-align: right;\">\n",
       "      <th></th>\n",
       "      <th>Attention</th>\n",
       "      <th>$\\lambda$</th>\n",
       "      <th>Bigram Flip acc</th>\n",
       "      <th>Bigram Flip att-mass</th>\n",
       "      <th>Sequence Copy acc</th>\n",
       "      <th>Sequence Copy att-mass</th>\n",
       "      <th>Sequence Reverse acc</th>\n",
       "      <th>Sequence Reverse att-mass</th>\n",
       "    </tr>\n",
       "  </thead>\n",
       "  <tbody>\n",
       "    <tr>\n",
       "      <th>0</th>\n",
       "      <td>Dot-Product</td>\n",
       "      <td>0.0</td>\n",
       "      <td>78.01</td>\n",
       "      <td>4.77</td>\n",
       "      <td>78.04</td>\n",
       "      <td>4.78</td>\n",
       "      <td>77.87</td>\n",
       "      <td>4.93</td>\n",
       "    </tr>\n",
       "    <tr>\n",
       "      <th>1</th>\n",
       "      <td>Dot-Product</td>\n",
       "      <td>0.1</td>\n",
       "      <td>78.01</td>\n",
       "      <td>4.77</td>\n",
       "      <td>78.04</td>\n",
       "      <td>4.78</td>\n",
       "      <td>77.87</td>\n",
       "      <td>4.93</td>\n",
       "    </tr>\n",
       "    <tr>\n",
       "      <th>2</th>\n",
       "      <td>Dot-Product</td>\n",
       "      <td>1.0</td>\n",
       "      <td>78.01</td>\n",
       "      <td>4.77</td>\n",
       "      <td>78.04</td>\n",
       "      <td>4.78</td>\n",
       "      <td>77.87</td>\n",
       "      <td>4.93</td>\n",
       "    </tr>\n",
       "    <tr>\n",
       "      <th>3</th>\n",
       "      <td>Uniform</td>\n",
       "      <td>0.0</td>\n",
       "      <td>78.01</td>\n",
       "      <td>4.77</td>\n",
       "      <td>78.04</td>\n",
       "      <td>4.78</td>\n",
       "      <td>77.87</td>\n",
       "      <td>4.93</td>\n",
       "    </tr>\n",
       "    <tr>\n",
       "      <th>4</th>\n",
       "      <td>None</td>\n",
       "      <td>0.0</td>\n",
       "      <td>78.01</td>\n",
       "      <td>0.00</td>\n",
       "      <td>78.04</td>\n",
       "      <td>0.00</td>\n",
       "      <td>77.87</td>\n",
       "      <td>0.00</td>\n",
       "    </tr>\n",
       "  </tbody>\n",
       "</table>\n",
       "</div>"
      ],
      "text/plain": [
       "     Attention  $\\lambda$  Bigram Flip acc  Bigram Flip att-mass  \\\n",
       "0  Dot-Product        0.0            78.01                  4.77   \n",
       "1  Dot-Product        0.1            78.01                  4.77   \n",
       "2  Dot-Product        1.0            78.01                  4.77   \n",
       "3      Uniform        0.0            78.01                  4.77   \n",
       "4         None        0.0            78.01                  0.00   \n",
       "\n",
       "   Sequence Copy acc  Sequence Copy att-mass  Sequence Reverse acc  \\\n",
       "0              78.04                    4.78                 77.87   \n",
       "1              78.04                    4.78                 77.87   \n",
       "2              78.04                    4.78                 77.87   \n",
       "3              78.04                    4.78                 77.87   \n",
       "4              78.04                    0.00                 77.87   \n",
       "\n",
       "   Sequence Reverse att-mass  \n",
       "0                       4.93  \n",
       "1                       4.93  \n",
       "2                       4.93  \n",
       "3                       4.93  \n",
       "4                       0.00  "
      ]
     },
     "execution_count": 27,
     "metadata": {},
     "output_type": "execute_result"
    }
   ],
   "source": [
    "# Sequence Copy, Sequence Reverse and Bigram Flip\n",
    "run_synthetic_experiments(clear_out=True,\n",
    "                          seeds=seeds,\n",
    "                          epochs=epochs,\n",
    "                          num_sentences_train=num_sentences_train)"
   ]
  },
  {
   "cell_type": "code",
   "execution_count": null,
   "metadata": {},
   "outputs": [],
   "source": [
    "# English German Machine Translation\n",
    "run_en_de_experiments(clear_out=True,\n",
    "                      seeds=seeds,\n",
    "                      epochs=epochs,\n",
    "                      num_sentences_train=num_sentences_train)"
   ]
  },
  {
   "cell_type": "markdown",
   "metadata": {},
   "source": [
    "## Evaluation\n",
    "\n",
    "Because our models take quite some time to be trained and this might not be feasable on your machine, the following cells provide\n",
    "functionalities to load and test pretrained models.\n",
    "\n",
    "- add instruction where do get models from\n",
    "\n",
    "### Sequence Copy, Sequence Reverse and Bigram Flip"
   ]
  },
  {
   "cell_type": "code",
   "execution_count": 4,
   "metadata": {
    "pycharm": {
     "name": "#%%\n"
    }
   },
   "outputs": [
    {
     "name": "stdout",
     "output_type": "stream",
     "text": [
      "Finished all experiments. Displaying ...\n"
     ]
    },
    {
     "data": {
      "text/html": [
       "<div>\n",
       "<style scoped>\n",
       "    .dataframe tbody tr th:only-of-type {\n",
       "        vertical-align: middle;\n",
       "    }\n",
       "\n",
       "    .dataframe tbody tr th {\n",
       "        vertical-align: top;\n",
       "    }\n",
       "\n",
       "    .dataframe thead th {\n",
       "        text-align: right;\n",
       "    }\n",
       "</style>\n",
       "<table border=\"1\" class=\"dataframe\">\n",
       "  <thead>\n",
       "    <tr style=\"text-align: right;\">\n",
       "      <th></th>\n",
       "      <th>Attention</th>\n",
       "      <th>$\\lambda$</th>\n",
       "      <th>Bigram Flip acc</th>\n",
       "      <th>Bigram Flip att-mass</th>\n",
       "      <th>Sequence Copy acc</th>\n",
       "      <th>Sequence Copy att-mass</th>\n",
       "      <th>Sequence Reverse acc</th>\n",
       "      <th>Sequence Reverse att-mass</th>\n",
       "    </tr>\n",
       "  </thead>\n",
       "  <tbody>\n",
       "    <tr>\n",
       "      <th>0</th>\n",
       "      <td>Dot-Product</td>\n",
       "      <td>0.0</td>\n",
       "      <td>-1</td>\n",
       "      <td>-1</td>\n",
       "      <td>-1</td>\n",
       "      <td>-1</td>\n",
       "      <td>-1</td>\n",
       "      <td>-1</td>\n",
       "    </tr>\n",
       "    <tr>\n",
       "      <th>1</th>\n",
       "      <td>Dot-Product</td>\n",
       "      <td>0.1</td>\n",
       "      <td>-1</td>\n",
       "      <td>-1</td>\n",
       "      <td>-1</td>\n",
       "      <td>-1</td>\n",
       "      <td>-1</td>\n",
       "      <td>-1</td>\n",
       "    </tr>\n",
       "    <tr>\n",
       "      <th>2</th>\n",
       "      <td>Dot-Product</td>\n",
       "      <td>1.0</td>\n",
       "      <td>-1</td>\n",
       "      <td>-1</td>\n",
       "      <td>-1</td>\n",
       "      <td>-1</td>\n",
       "      <td>-1</td>\n",
       "      <td>-1</td>\n",
       "    </tr>\n",
       "    <tr>\n",
       "      <th>3</th>\n",
       "      <td>Uniform</td>\n",
       "      <td>0.0</td>\n",
       "      <td>-1</td>\n",
       "      <td>-1</td>\n",
       "      <td>-1</td>\n",
       "      <td>-1</td>\n",
       "      <td>-1</td>\n",
       "      <td>-1</td>\n",
       "    </tr>\n",
       "    <tr>\n",
       "      <th>4</th>\n",
       "      <td>None</td>\n",
       "      <td>0.0</td>\n",
       "      <td>-1</td>\n",
       "      <td>-1</td>\n",
       "      <td>-1</td>\n",
       "      <td>-1</td>\n",
       "      <td>-1</td>\n",
       "      <td>-1</td>\n",
       "    </tr>\n",
       "  </tbody>\n",
       "</table>\n",
       "</div>"
      ],
      "text/plain": [
       "     Attention  $\\lambda$  Bigram Flip acc  Bigram Flip att-mass  \\\n",
       "0  Dot-Product        0.0               -1                    -1   \n",
       "1  Dot-Product        0.1               -1                    -1   \n",
       "2  Dot-Product        1.0               -1                    -1   \n",
       "3      Uniform        0.0               -1                    -1   \n",
       "4         None        0.0               -1                    -1   \n",
       "\n",
       "   Sequence Copy acc  Sequence Copy att-mass  Sequence Reverse acc  \\\n",
       "0                 -1                      -1                    -1   \n",
       "1                 -1                      -1                    -1   \n",
       "2                 -1                      -1                    -1   \n",
       "3                 -1                      -1                    -1   \n",
       "4                 -1                      -1                    -1   \n",
       "\n",
       "   Sequence Reverse att-mass  \n",
       "0                         -1  \n",
       "1                         -1  \n",
       "2                         -1  \n",
       "3                         -1  \n",
       "4                         -1  "
      ]
     },
     "execution_count": 4,
     "metadata": {},
     "output_type": "execute_result"
    }
   ],
   "source": [
    "run_synthetic_experiments(clear_out=True,\n",
    "                          stage='test',\n",
    "                          seeds=seeds,\n",
    "                          epochs=epochs)"
   ]
  },
  {
   "cell_type": "markdown",
   "metadata": {
    "pycharm": {
     "name": "#%% md\n"
    }
   },
   "source": [
    "### English-German Translation"
   ]
  },
  {
   "cell_type": "code",
   "execution_count": null,
   "metadata": {
    "pycharm": {
     "name": "#%%\n"
    }
   },
   "outputs": [],
   "source": [
    "run_en_de_experiments(clear_out=True, stage='test', seeds=[1,2])"
   ]
  }
 ],
 "metadata": {
  "file_extension": ".py",
  "kernelspec": {
   "display_name": "Python 3",
   "language": "python",
   "name": "python3"
  },
  "language_info": {
   "codemirror_mode": {
    "name": "ipython",
    "version": 3
   },
   "file_extension": ".py",
   "mimetype": "text/x-python",
   "name": "python",
   "nbconvert_exporter": "python",
   "pygments_lexer": "ipython3",
   "version": "3.8.5"
  },
  "mimetype": "text/x-python",
  "name": "python",
  "npconvert_exporter": "python",
  "pygments_lexer": "ipython3",
  "version": 3
 },
 "nbformat": 4,
 "nbformat_minor": 2
}